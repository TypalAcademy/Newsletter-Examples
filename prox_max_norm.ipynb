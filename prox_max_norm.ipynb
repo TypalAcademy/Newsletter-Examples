{
  "nbformat": 4,
  "nbformat_minor": 0,
  "metadata": {
    "colab": {
      "provenance": []
    },
    "kernelspec": {
      "name": "python3",
      "display_name": "Python 3"
    },
    "language_info": {
      "name": "python"
    }
  },
  "cells": [
    {
      "cell_type": "markdown",
      "source": [
        "# Numerical Example for Proximal of the Max Norm"
      ],
      "metadata": {
        "id": "RRDUQJ1tuv04"
      }
    },
    {
      "cell_type": "code",
      "execution_count": 97,
      "metadata": {
        "id": "_O8ThiS2hRaC"
      },
      "outputs": [],
      "source": [
        "import numpy as np\n",
        "\n",
        "def get_root(x, lambd, tol=1.0e-10):\n",
        "    ''' Execute the bisection method to find parameter for L1 ball projection\n",
        "    '''\n",
        "    t_lo = 0.0\n",
        "    t_hi = np.max(np.abs(x))\n",
        "\n",
        "    converge = False\n",
        "    while not converge:\n",
        "        t = 0.5 * (t_lo + t_hi)\n",
        "        res = np.sum(np.maximum(np.abs(x) - t, 0)) - lambd\n",
        "        if res > 0:\n",
        "            t_lo = t\n",
        "        else:\n",
        "            t_hi = t\n",
        "        converge = np.abs(res) < tol * lambd\n",
        "    return t\n",
        "\n",
        "\n",
        "def prox_max_norm(x, lambd):\n",
        "    ''' Compute proximal for max norm using Moreau identity\n",
        "    '''\n",
        "    l1_norm = np.sum(np.abs(x))\n",
        "    if l1_norm <= lambd:\n",
        "        return np.zeros(x.shape)\n",
        "    else:\n",
        "        alpha = get_root(x, lambd)\n",
        "        prox = x - np.sign(x) * np.maximum(np.abs(x) - alpha, 0)\n",
        "        return prox\n",
        "\n",
        "\n",
        "def proj_rank(A, r):\n",
        "    ''' Projection matrix onto set of rank r matrices\n",
        "    '''\n",
        "    U, S, V = np.linalg.svd(A, full_matrices=False)\n",
        "    S[r:] = 0\n",
        "    return (U * S) @ V\n",
        "\n",
        "\n",
        "def T(Z, lambd, r, ord='max'):\n",
        "    ''' Apply fixed point operator to minimize |X - D|_∞ over rank r matrices\n",
        "\n",
        "        Note: This is a Douglas Rachford update, and the iteration is not\n",
        "              convex. Thus, it will only converge for step size lambd that is\n",
        "              sufficiently small.\n",
        "    '''\n",
        "    X = proj_rank(Z, r)\n",
        "    Z = Z + prox_max_norm(2 * X - Z - D, lambd) + D - X\n",
        "    return X, Z\n",
        "\n",
        "\n",
        "def compute_low_rank_est(D, r, lambd=1e-3, ord='fro', iters=500):\n",
        "    ''' Compute low-rank estimate of D w.r.t. the max norm\n",
        "    '''\n",
        "    err_max = np.zeros(iters)\n",
        "    err_fro = np.zeros(iters)\n",
        "    rank    = np.zeros(iters)\n",
        "    norm    = np.zeros(iters)\n",
        "    Z       = D.copy()\n",
        "\n",
        "    for k in range(iters):\n",
        "        Z_p  = Z.copy()\n",
        "        X, Z = T(Z, lambd, r, ord=ord)\n",
        "\n",
        "        err_max[k] = np.max(np.abs(X - D)) / np.max(np.abs(D))\n",
        "        err_fro[k] = np.linalg.norm(X - D, ord='fro') / np.linalg.norm(D, ord='fro')\n",
        "        rank[k]    = np.linalg.matrix_rank(X)\n",
        "        norm[k]    = np.linalg.norm(X, ord='nuc')\n",
        "\n",
        "        if k % 10 == 0:\n",
        "            msg  = \"[{:5d}]: |Z - Z_p| = {:0.3e}, fro err = {:0.3e}, \"\n",
        "            msg += \"max err = {:0.3e}, |X|_* = {:0.3e}, rank = {:2.0f}\"\n",
        "            print(msg.format(k, np.linalg.norm(Z - Z_p, ord='fro'),\n",
        "                             err_fro[k], err_max[k], norm[k], rank[k]))\n",
        "\n",
        "    return X, err_max, err_fro, rank, norm\n"
      ]
    },
    {
      "cell_type": "markdown",
      "source": [
        "## Convex Example"
      ],
      "metadata": {
        "id": "t4Ss9iSBjwRp"
      }
    },
    {
      "cell_type": "markdown",
      "source": [
        "We use the fixed point iteration acceleration from this [paper](https://arxiv.org/pdf/2206.09462)"
      ],
      "metadata": {
        "id": "xrv5DifPjyeb"
      }
    },
    {
      "cell_type": "code",
      "source": [
        "np.random.seed(2024)\n",
        "m = 500\n",
        "n = 1000\n",
        "r = 10\n",
        "\n",
        "# Create a Gaussian matrix D with decaying singular values\n",
        "D = np.random.normal(0, 1.0, size=(m,n))\n",
        "U, S, V = np.linalg.svd(D, full_matrices=False)\n",
        "S = np.exp(-0.5 * np.arange(S.size))\n",
        "D = (U * S) @ V\n",
        "\n",
        "X_max, err_max, err_fro, rank, norm = compute_low_rank_est(D, r)"
      ],
      "metadata": {
        "colab": {
          "base_uri": "https://localhost:8080/"
        },
        "id": "WJRWIJ-Wjy34",
        "outputId": "e09adc32-e79b-48ae-d3c6-3d59835320b1"
      },
      "execution_count": null,
      "outputs": [
        {
          "output_type": "stream",
          "name": "stdout",
          "text": [
            "[    0]: |Z - Z_p| = 8.466e-03, fro err = 6.738e-03, max err = 5.740e-03, |X|_* = 2.524e+00, rank = 10\n",
            "[   10]: |Z - Z_p| = 3.827e-05, fro err = 6.742e-03, max err = 5.121e-03, |X|_* = 2.524e+00, rank = 10\n",
            "[   20]: |Z - Z_p| = 3.212e-05, fro err = 6.752e-03, max err = 4.887e-03, |X|_* = 2.524e+00, rank = 10\n",
            "[   30]: |Z - Z_p| = 2.777e-05, fro err = 6.758e-03, max err = 4.708e-03, |X|_* = 2.524e+00, rank = 10\n",
            "[   40]: |Z - Z_p| = 2.436e-05, fro err = 6.761e-03, max err = 4.582e-03, |X|_* = 2.524e+00, rank = 10\n",
            "[   50]: |Z - Z_p| = 2.145e-05, fro err = 6.763e-03, max err = 4.460e-03, |X|_* = 2.524e+00, rank = 10\n",
            "[   60]: |Z - Z_p| = 1.832e-05, fro err = 6.766e-03, max err = 4.407e-03, |X|_* = 2.524e+00, rank = 10\n",
            "[   70]: |Z - Z_p| = 1.526e-05, fro err = 6.768e-03, max err = 4.323e-03, |X|_* = 2.524e+00, rank = 10\n",
            "[   80]: |Z - Z_p| = 1.233e-05, fro err = 6.771e-03, max err = 4.305e-03, |X|_* = 2.524e+00, rank = 10\n",
            "[   90]: |Z - Z_p| = 1.087e-05, fro err = 6.774e-03, max err = 4.230e-03, |X|_* = 2.524e+00, rank = 10\n",
            "[  100]: |Z - Z_p| = 9.651e-06, fro err = 6.776e-03, max err = 4.210e-03, |X|_* = 2.524e+00, rank = 10\n",
            "[  110]: |Z - Z_p| = 8.801e-06, fro err = 6.779e-03, max err = 4.229e-03, |X|_* = 2.524e+00, rank = 10\n",
            "[  120]: |Z - Z_p| = 8.126e-06, fro err = 6.781e-03, max err = 4.177e-03, |X|_* = 2.524e+00, rank = 10\n",
            "[  130]: |Z - Z_p| = 7.467e-06, fro err = 6.784e-03, max err = 4.154e-03, |X|_* = 2.524e+00, rank = 10\n",
            "[  140]: |Z - Z_p| = 6.990e-06, fro err = 6.787e-03, max err = 4.141e-03, |X|_* = 2.524e+00, rank = 10\n",
            "[  150]: |Z - Z_p| = 6.433e-06, fro err = 6.789e-03, max err = 4.115e-03, |X|_* = 2.524e+00, rank = 10\n",
            "[  160]: |Z - Z_p| = 6.059e-06, fro err = 6.791e-03, max err = 4.104e-03, |X|_* = 2.524e+00, rank = 10\n",
            "[  170]: |Z - Z_p| = 5.704e-06, fro err = 6.793e-03, max err = 4.081e-03, |X|_* = 2.524e+00, rank = 10\n",
            "[  180]: |Z - Z_p| = 5.335e-06, fro err = 6.796e-03, max err = 4.082e-03, |X|_* = 2.524e+00, rank = 10\n",
            "[  190]: |Z - Z_p| = 5.005e-06, fro err = 6.797e-03, max err = 4.084e-03, |X|_* = 2.524e+00, rank = 10\n",
            "[  200]: |Z - Z_p| = 4.694e-06, fro err = 6.799e-03, max err = 4.082e-03, |X|_* = 2.524e+00, rank = 10\n",
            "[  210]: |Z - Z_p| = 4.421e-06, fro err = 6.800e-03, max err = 4.091e-03, |X|_* = 2.524e+00, rank = 10\n",
            "[  220]: |Z - Z_p| = 4.133e-06, fro err = 6.801e-03, max err = 4.071e-03, |X|_* = 2.524e+00, rank = 10\n",
            "[  230]: |Z - Z_p| = 3.879e-06, fro err = 6.802e-03, max err = 4.051e-03, |X|_* = 2.524e+00, rank = 10\n",
            "[  240]: |Z - Z_p| = 3.639e-06, fro err = 6.804e-03, max err = 4.052e-03, |X|_* = 2.524e+00, rank = 10\n",
            "[  250]: |Z - Z_p| = 3.482e-06, fro err = 6.805e-03, max err = 4.059e-03, |X|_* = 2.524e+00, rank = 10\n",
            "[  260]: |Z - Z_p| = 3.327e-06, fro err = 6.805e-03, max err = 4.047e-03, |X|_* = 2.524e+00, rank = 10\n",
            "[  270]: |Z - Z_p| = 3.202e-06, fro err = 6.806e-03, max err = 4.040e-03, |X|_* = 2.524e+00, rank = 10\n",
            "[  280]: |Z - Z_p| = 3.093e-06, fro err = 6.807e-03, max err = 4.035e-03, |X|_* = 2.524e+00, rank = 10\n",
            "[  290]: |Z - Z_p| = 2.990e-06, fro err = 6.808e-03, max err = 4.034e-03, |X|_* = 2.524e+00, rank = 10\n",
            "[  300]: |Z - Z_p| = 2.886e-06, fro err = 6.810e-03, max err = 4.038e-03, |X|_* = 2.524e+00, rank = 10\n",
            "[  310]: |Z - Z_p| = 2.782e-06, fro err = 6.811e-03, max err = 4.023e-03, |X|_* = 2.524e+00, rank = 10\n",
            "[  320]: |Z - Z_p| = 2.686e-06, fro err = 6.812e-03, max err = 4.018e-03, |X|_* = 2.524e+00, rank = 10\n",
            "[  330]: |Z - Z_p| = 2.596e-06, fro err = 6.813e-03, max err = 4.023e-03, |X|_* = 2.524e+00, rank = 10\n"
          ]
        }
      ]
    },
    {
      "cell_type": "markdown",
      "source": [
        "Lastly, we compare the errors of using the above formulation versus simply projecting $D$ onto the set of rank 10 matrices."
      ],
      "metadata": {
        "id": "cNaoJAhTufYy"
      }
    },
    {
      "cell_type": "code",
      "source": [
        "X_fro = proj_rank(D, 10)\n",
        "\n",
        "print('|X_max - D|_max / |D|_max =', np.max(np.abs(X_max - D)) / np.max(np.abs(D)))\n",
        "print('|X_max - D|_F   / |D|_F   =',  np.linalg.norm(X_max - D, ord='fro') / np.linalg.norm(D, ord='fro'))\n",
        "print('rank(X_max) = ', np.linalg.matrix_rank(X_max), '\\n')\n",
        "\n",
        "print('|X_fro - D|_max / |D|_max =', np.max(np.abs(X_fro - D) / np.max(np.abs(D))))\n",
        "print('|X_fro - D|_F   / |D|_F   =',  np.linalg.norm(X_fro - D, ord='fro') / np.linalg.norm(D, ord='fro'))\n",
        "print('rank(X_fro) = ', np.linalg.matrix_rank(X_fro))"
      ],
      "metadata": {
        "colab": {
          "base_uri": "https://localhost:8080/"
        },
        "id": "i9rzmAZdnMd_",
        "outputId": "4081a483-3c39-456e-f5b6-c4bcc0375356"
      },
      "execution_count": 100,
      "outputs": [
        {
          "output_type": "stream",
          "name": "stdout",
          "text": [
            "|X_max - D|_max / |D|_max = 0.003986367427823933\n",
            "|X_max - D|_F   / |D|_F   = 0.006831167104625575\n",
            "rank(X_max) =  10 \n",
            "\n",
            "|X_fro - D|_max / |D|_max = 0.005739844395175539\n",
            "|X_fro - D|_F   / |D|_F   = 0.006737946999085468\n",
            "rank(X_fro) =  10\n"
          ]
        }
      ]
    }
  ]
}